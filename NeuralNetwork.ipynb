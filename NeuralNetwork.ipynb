{
  "nbformat": 4,
  "nbformat_minor": 0,
  "metadata": {
    "colab": {
      "provenance": [],
      "gpuType": "T4",
      "authorship_tag": "ABX9TyMG7WpQz1T9jsO/eLfS48zY",
      "include_colab_link": true
    },
    "kernelspec": {
      "name": "python3",
      "display_name": "Python 3"
    },
    "language_info": {
      "name": "python"
    }
  },
  "cells": [
    {
      "cell_type": "markdown",
      "metadata": {
        "id": "view-in-github",
        "colab_type": "text"
      },
      "source": [
        "<a href=\"https://colab.research.google.com/github/sunwoo02/PyTorch-tutorial/blob/main/NeuralNetwork.ipynb\" target=\"_parent\"><img src=\"https://colab.research.google.com/assets/colab-badge.svg\" alt=\"Open In Colab\"/></a>"
      ]
    },
    {
      "cell_type": "code",
      "execution_count": 25,
      "metadata": {
        "id": "mJChR2l6G9FP"
      },
      "outputs": [],
      "source": [
        "import torch\n",
        "# nn: neural network\n",
        "import torch.nn as nn\n",
        "import torch.nn.functional as F"
      ]
    },
    {
      "cell_type": "code",
      "source": [
        "# Create a Model Class that inherits nn.Module\n",
        "class Model(nn.Module):\n",
        "  # Input layer (4 features of the flower)-->\n",
        "  # Hidden Layer1 h1(number of neurons)-->\n",
        "  # h2(n)-->\n",
        "  # output(3 classes of iris flowers)\n",
        "    def __init__(self,in_features=4,h1=8, h2=9, out_features=3):\n",
        "        super().__init__() # instantiate out nn.Module\n",
        "        self.fc1 = nn.Linear(in_features,h1)  #fc stands for fully connected, Linear model\n",
        "        self.fc2 = nn.Linear(h1,h2)\n",
        "        self.out = nn.Linear(h2,out_features)\n",
        "\n",
        "  # move forward\n",
        "    def forward(self,x):\n",
        "        x = F.relu(self.fc1(x))  #relu: rectified linear unit function. If output is less than zero, just call it zero.\n",
        "        x = F.relu(self.fc2(x))\n",
        "        x = self.out(x)\n",
        "        return x\n"
      ],
      "metadata": {
        "id": "xh9P0aFaNZSg"
      },
      "execution_count": 26,
      "outputs": []
    },
    {
      "cell_type": "code",
      "source": [
        "# Pick a manual seed for randomization\n",
        "torch.manual_seed(41)\n",
        "# Create an instance of model\n",
        "model = Model()"
      ],
      "metadata": {
        "id": "yRzRcNsvRWcD"
      },
      "execution_count": 27,
      "outputs": []
    }
  ]
}